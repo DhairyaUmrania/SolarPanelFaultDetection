{
 "cells": [
  {
   "cell_type": "markdown",
   "id": "1fb9049c",
   "metadata": {},
   "source": [
    "# Importing libraries"
   ]
  },
  {
   "cell_type": "code",
   "execution_count": 1,
   "id": "b42ed2cd",
   "metadata": {},
   "outputs": [],
   "source": [
    "import numpy as np\n",
    "import tensorflow as tf\n",
    "import matplotlib.pyplot as plt\n",
    "import os\n",
    "import cv2\n",
    "from tqdm import tqdm\n",
    "from tensorflow.keras.preprocessing.image import ImageDataGenerator\n",
    "from sklearn.metrics import confusion_matrix\n",
    "import seaborn as sns"
   ]
  },
  {
   "cell_type": "code",
   "execution_count": 2,
   "id": "45317d53",
   "metadata": {},
   "outputs": [],
   "source": [
    "from tensorflow.keras.models import Sequential\n",
    "from tensorflow.keras.layers import Dense, Dropout, Activation, Flatten, Conv2D, MaxPooling2D\n",
    "from tensorflow.keras import models, layers"
   ]
  },
  {
   "cell_type": "code",
   "execution_count": 3,
   "id": "10cd94d5",
   "metadata": {},
   "outputs": [],
   "source": [
    "import tensorflow as tf\n",
    "import tensorflow_hub as hub\n",
    "\n",
    "from tensorflow import keras\n",
    "from tensorflow.keras import layers\n",
    "from tensorflow.keras.models import Sequential"
   ]
  },
  {
   "cell_type": "markdown",
   "id": "c0bc845f",
   "metadata": {},
   "source": [
    "# Creating Dataset"
   ]
  },
  {
   "cell_type": "code",
   "execution_count": 4,
   "id": "ab660e7d",
   "metadata": {},
   "outputs": [],
   "source": [
    "\n",
    "DATADIR = \"E:/KJ Somaiya/LY/DL/IA2/color thermal images\"\n",
    "\n",
    "CATEGORIES = [\"single cell hotspot\", \"multicell hotspot\", \"dust shadow hotspot\", \"diode fault\", \"PID effect\"]"
   ]
  },
  {
   "cell_type": "code",
   "execution_count": 5,
   "id": "6ae57ea5",
   "metadata": {},
   "outputs": [],
   "source": [
    "data = []\n",
    "\n",
    "def create_data():\n",
    "    for category in CATEGORIES:\n",
    "        path = os.path.join(DATADIR, category)\n",
    "        class_num = CATEGORIES.index(category)\n",
    "        for img in os.listdir(path):\n",
    "            img_array_bgr = cv2.imread(os.path.join(path,img))\n",
    "            img_array= cv2.cvtColor(img_array_bgr, cv2.COLOR_BGR2RGB)\n",
    "            new_array = cv2.resize(img_array, (224, 224))\n",
    "            data.append([new_array, class_num])\n",
    "            \n",
    "create_data()\n",
    "           \n",
    "    "
   ]
  },
  {
   "cell_type": "code",
   "execution_count": 6,
   "id": "2d42fa30",
   "metadata": {},
   "outputs": [
    {
     "data": {
      "text/plain": [
       "239"
      ]
     },
     "execution_count": 6,
     "metadata": {},
     "output_type": "execute_result"
    }
   ],
   "source": [
    "len(data)"
   ]
  },
  {
   "cell_type": "markdown",
   "id": "f6398248",
   "metadata": {},
   "source": [
    "## Shuffling dataset"
   ]
  },
  {
   "cell_type": "code",
   "execution_count": 7,
   "id": "2fef0e82",
   "metadata": {},
   "outputs": [],
   "source": [
    "import random\n",
    "\n",
    "random.Random(42).shuffle(data)"
   ]
  },
  {
   "cell_type": "code",
   "execution_count": 8,
   "id": "e63f4645",
   "metadata": {},
   "outputs": [],
   "source": [
    "X = []\n",
    "y = []"
   ]
  },
  {
   "cell_type": "code",
   "execution_count": 9,
   "id": "229d10f7",
   "metadata": {},
   "outputs": [],
   "source": [
    "for features, label in data:\n",
    "    X.append(features)\n",
    "    y.append(label)\n",
    "    \n",
    "X = np.array(X).reshape(-1, 224, 224, 3)"
   ]
  },
  {
   "cell_type": "markdown",
   "id": "c9df92f6",
   "metadata": {},
   "source": [
    "# Data Preprocessing"
   ]
  },
  {
   "cell_type": "markdown",
   "id": "6287b818",
   "metadata": {},
   "source": [
    "## Data Normalizing"
   ]
  },
  {
   "cell_type": "code",
   "execution_count": 10,
   "id": "eed0f758",
   "metadata": {},
   "outputs": [],
   "source": [
    "X = X/255"
   ]
  },
  {
   "cell_type": "code",
   "execution_count": 11,
   "id": "bd446831",
   "metadata": {},
   "outputs": [],
   "source": [
    "y = np.array(y)"
   ]
  },
  {
   "cell_type": "code",
   "execution_count": 12,
   "id": "96ce28b8",
   "metadata": {},
   "outputs": [],
   "source": [
    "y = y.reshape(-1,)"
   ]
  },
  {
   "cell_type": "markdown",
   "id": "b1e7f158",
   "metadata": {},
   "source": [
    "## Using SMOTE for balancing dataset"
   ]
  },
  {
   "cell_type": "code",
   "execution_count": 13,
   "id": "c75dd568",
   "metadata": {},
   "outputs": [
    {
     "data": {
      "text/plain": [
       "array([55, 52, 39, 43, 50], dtype=int64)"
      ]
     },
     "execution_count": 13,
     "metadata": {},
     "output_type": "execute_result"
    }
   ],
   "source": [
    "np.bincount(y)"
   ]
  },
  {
   "cell_type": "code",
   "execution_count": 14,
   "id": "807e73eb",
   "metadata": {},
   "outputs": [],
   "source": [
    "ReX = X.reshape(len(X),-1)\n",
    "\n",
    "from imblearn.over_sampling import SMOTE\n",
    "sm = SMOTE(random_state = 42)\n",
    "\n",
    "X_smote, y_smote = sm.fit_resample(ReX, y)\n"
   ]
  },
  {
   "cell_type": "code",
   "execution_count": 15,
   "id": "71cd6bbc",
   "metadata": {},
   "outputs": [],
   "source": [
    "X_smote = X_smote.reshape(-1, 224, 224, 3)"
   ]
  },
  {
   "cell_type": "code",
   "execution_count": 16,
   "id": "76c8e37e",
   "metadata": {},
   "outputs": [
    {
     "data": {
      "text/plain": [
       "(275, 224, 224, 3)"
      ]
     },
     "execution_count": 16,
     "metadata": {},
     "output_type": "execute_result"
    }
   ],
   "source": [
    "X_smote.shape"
   ]
  },
  {
   "cell_type": "code",
   "execution_count": 17,
   "id": "7f02754d",
   "metadata": {},
   "outputs": [
    {
     "data": {
      "text/plain": [
       "array([55, 55, 55, 55, 55], dtype=int64)"
      ]
     },
     "execution_count": 17,
     "metadata": {},
     "output_type": "execute_result"
    }
   ],
   "source": [
    "np.bincount(y_smote)"
   ]
  },
  {
   "cell_type": "markdown",
   "id": "3bc14476",
   "metadata": {},
   "source": [
    "## Train-test split"
   ]
  },
  {
   "cell_type": "code",
   "execution_count": 18,
   "id": "542d1132",
   "metadata": {},
   "outputs": [],
   "source": [
    "from sklearn.model_selection import train_test_split\n",
    "X_train, X_test, y_train, y_test = train_test_split(X_smote, y_smote, stratify=y_smote, test_size = 0.2, random_state = 0)"
   ]
  },
  {
   "cell_type": "markdown",
   "id": "f3dc9b39",
   "metadata": {},
   "source": [
    "# Data Augmentation"
   ]
  },
  {
   "cell_type": "code",
   "execution_count": 19,
   "id": "18a57c01",
   "metadata": {},
   "outputs": [],
   "source": [
    "data_augmentation = keras.Sequential(\n",
    "  [\n",
    "    layers.experimental.preprocessing.RandomFlip(\"horizontal\", \n",
    "                                                 input_shape=(224, \n",
    "                                                              224,\n",
    "                                                              3)),\n",
    "    layers.experimental.preprocessing.RandomRotation(0.1),\n",
    "    layers.experimental.preprocessing.RandomZoom(0.1),\n",
    "  ]\n",
    ")"
   ]
  },
  {
   "cell_type": "markdown",
   "id": "086cc739",
   "metadata": {},
   "source": [
    "# CNN"
   ]
  },
  {
   "cell_type": "code",
   "execution_count": 20,
   "id": "21cd0731",
   "metadata": {},
   "outputs": [
    {
     "name": "stdout",
     "output_type": "stream",
     "text": [
      "Epoch 1/20\n",
      "3/7 [===========>..................] - ETA: 5s - loss: 12.3149 - accuracy: 0.2292"
     ]
    },
    {
     "ename": "KeyboardInterrupt",
     "evalue": "",
     "output_type": "error",
     "traceback": [
      "\u001b[1;31m---------------------------------------------------------------------------\u001b[0m",
      "\u001b[1;31mKeyboardInterrupt\u001b[0m                         Traceback (most recent call last)",
      "\u001b[1;32m<ipython-input-20-d83e2e515599>\u001b[0m in \u001b[0;36m<module>\u001b[1;34m\u001b[0m\n\u001b[0;32m     15\u001b[0m               metrics=['accuracy'])\n\u001b[0;32m     16\u001b[0m \u001b[1;33m\u001b[0m\u001b[0m\n\u001b[1;32m---> 17\u001b[1;33m \u001b[0mcnn\u001b[0m\u001b[1;33m.\u001b[0m\u001b[0mfit\u001b[0m\u001b[1;33m(\u001b[0m\u001b[0mX_train\u001b[0m\u001b[1;33m,\u001b[0m \u001b[0my_train\u001b[0m\u001b[1;33m,\u001b[0m \u001b[0mepochs\u001b[0m\u001b[1;33m=\u001b[0m\u001b[1;36m20\u001b[0m\u001b[1;33m)\u001b[0m\u001b[1;33m\u001b[0m\u001b[1;33m\u001b[0m\u001b[0m\n\u001b[0m",
      "\u001b[1;32mE:\\Programming\\Anaconda\\lib\\site-packages\\keras\\engine\\training.py\u001b[0m in \u001b[0;36mfit\u001b[1;34m(self, x, y, batch_size, epochs, verbose, callbacks, validation_split, validation_data, shuffle, class_weight, sample_weight, initial_epoch, steps_per_epoch, validation_steps, validation_batch_size, validation_freq, max_queue_size, workers, use_multiprocessing)\u001b[0m\n\u001b[0;32m   1182\u001b[0m                 _r=1):\n\u001b[0;32m   1183\u001b[0m               \u001b[0mcallbacks\u001b[0m\u001b[1;33m.\u001b[0m\u001b[0mon_train_batch_begin\u001b[0m\u001b[1;33m(\u001b[0m\u001b[0mstep\u001b[0m\u001b[1;33m)\u001b[0m\u001b[1;33m\u001b[0m\u001b[1;33m\u001b[0m\u001b[0m\n\u001b[1;32m-> 1184\u001b[1;33m               \u001b[0mtmp_logs\u001b[0m \u001b[1;33m=\u001b[0m \u001b[0mself\u001b[0m\u001b[1;33m.\u001b[0m\u001b[0mtrain_function\u001b[0m\u001b[1;33m(\u001b[0m\u001b[0miterator\u001b[0m\u001b[1;33m)\u001b[0m\u001b[1;33m\u001b[0m\u001b[1;33m\u001b[0m\u001b[0m\n\u001b[0m\u001b[0;32m   1185\u001b[0m               \u001b[1;32mif\u001b[0m \u001b[0mdata_handler\u001b[0m\u001b[1;33m.\u001b[0m\u001b[0mshould_sync\u001b[0m\u001b[1;33m:\u001b[0m\u001b[1;33m\u001b[0m\u001b[1;33m\u001b[0m\u001b[0m\n\u001b[0;32m   1186\u001b[0m                 \u001b[0mcontext\u001b[0m\u001b[1;33m.\u001b[0m\u001b[0masync_wait\u001b[0m\u001b[1;33m(\u001b[0m\u001b[1;33m)\u001b[0m\u001b[1;33m\u001b[0m\u001b[1;33m\u001b[0m\u001b[0m\n",
      "\u001b[1;32mE:\\Programming\\Anaconda\\lib\\site-packages\\tensorflow\\python\\eager\\def_function.py\u001b[0m in \u001b[0;36m__call__\u001b[1;34m(self, *args, **kwds)\u001b[0m\n\u001b[0;32m    883\u001b[0m \u001b[1;33m\u001b[0m\u001b[0m\n\u001b[0;32m    884\u001b[0m       \u001b[1;32mwith\u001b[0m \u001b[0mOptionalXlaContext\u001b[0m\u001b[1;33m(\u001b[0m\u001b[0mself\u001b[0m\u001b[1;33m.\u001b[0m\u001b[0m_jit_compile\u001b[0m\u001b[1;33m)\u001b[0m\u001b[1;33m:\u001b[0m\u001b[1;33m\u001b[0m\u001b[1;33m\u001b[0m\u001b[0m\n\u001b[1;32m--> 885\u001b[1;33m         \u001b[0mresult\u001b[0m \u001b[1;33m=\u001b[0m \u001b[0mself\u001b[0m\u001b[1;33m.\u001b[0m\u001b[0m_call\u001b[0m\u001b[1;33m(\u001b[0m\u001b[1;33m*\u001b[0m\u001b[0margs\u001b[0m\u001b[1;33m,\u001b[0m \u001b[1;33m**\u001b[0m\u001b[0mkwds\u001b[0m\u001b[1;33m)\u001b[0m\u001b[1;33m\u001b[0m\u001b[1;33m\u001b[0m\u001b[0m\n\u001b[0m\u001b[0;32m    886\u001b[0m \u001b[1;33m\u001b[0m\u001b[0m\n\u001b[0;32m    887\u001b[0m       \u001b[0mnew_tracing_count\u001b[0m \u001b[1;33m=\u001b[0m \u001b[0mself\u001b[0m\u001b[1;33m.\u001b[0m\u001b[0mexperimental_get_tracing_count\u001b[0m\u001b[1;33m(\u001b[0m\u001b[1;33m)\u001b[0m\u001b[1;33m\u001b[0m\u001b[1;33m\u001b[0m\u001b[0m\n",
      "\u001b[1;32mE:\\Programming\\Anaconda\\lib\\site-packages\\tensorflow\\python\\eager\\def_function.py\u001b[0m in \u001b[0;36m_call\u001b[1;34m(self, *args, **kwds)\u001b[0m\n\u001b[0;32m    915\u001b[0m       \u001b[1;31m# In this case we have created variables on the first call, so we run the\u001b[0m\u001b[1;33m\u001b[0m\u001b[1;33m\u001b[0m\u001b[1;33m\u001b[0m\u001b[0m\n\u001b[0;32m    916\u001b[0m       \u001b[1;31m# defunned version which is guaranteed to never create variables.\u001b[0m\u001b[1;33m\u001b[0m\u001b[1;33m\u001b[0m\u001b[1;33m\u001b[0m\u001b[0m\n\u001b[1;32m--> 917\u001b[1;33m       \u001b[1;32mreturn\u001b[0m \u001b[0mself\u001b[0m\u001b[1;33m.\u001b[0m\u001b[0m_stateless_fn\u001b[0m\u001b[1;33m(\u001b[0m\u001b[1;33m*\u001b[0m\u001b[0margs\u001b[0m\u001b[1;33m,\u001b[0m \u001b[1;33m**\u001b[0m\u001b[0mkwds\u001b[0m\u001b[1;33m)\u001b[0m  \u001b[1;31m# pylint: disable=not-callable\u001b[0m\u001b[1;33m\u001b[0m\u001b[1;33m\u001b[0m\u001b[0m\n\u001b[0m\u001b[0;32m    918\u001b[0m     \u001b[1;32melif\u001b[0m \u001b[0mself\u001b[0m\u001b[1;33m.\u001b[0m\u001b[0m_stateful_fn\u001b[0m \u001b[1;32mis\u001b[0m \u001b[1;32mnot\u001b[0m \u001b[1;32mNone\u001b[0m\u001b[1;33m:\u001b[0m\u001b[1;33m\u001b[0m\u001b[1;33m\u001b[0m\u001b[0m\n\u001b[0;32m    919\u001b[0m       \u001b[1;31m# Release the lock early so that multiple threads can perform the call\u001b[0m\u001b[1;33m\u001b[0m\u001b[1;33m\u001b[0m\u001b[1;33m\u001b[0m\u001b[0m\n",
      "\u001b[1;32mE:\\Programming\\Anaconda\\lib\\site-packages\\tensorflow\\python\\eager\\function.py\u001b[0m in \u001b[0;36m__call__\u001b[1;34m(self, *args, **kwargs)\u001b[0m\n\u001b[0;32m   3037\u001b[0m       (graph_function,\n\u001b[0;32m   3038\u001b[0m        filtered_flat_args) = self._maybe_define_function(args, kwargs)\n\u001b[1;32m-> 3039\u001b[1;33m     return graph_function._call_flat(\n\u001b[0m\u001b[0;32m   3040\u001b[0m         filtered_flat_args, captured_inputs=graph_function.captured_inputs)  # pylint: disable=protected-access\n\u001b[0;32m   3041\u001b[0m \u001b[1;33m\u001b[0m\u001b[0m\n",
      "\u001b[1;32mE:\\Programming\\Anaconda\\lib\\site-packages\\tensorflow\\python\\eager\\function.py\u001b[0m in \u001b[0;36m_call_flat\u001b[1;34m(self, args, captured_inputs, cancellation_manager)\u001b[0m\n\u001b[0;32m   1961\u001b[0m         and executing_eagerly):\n\u001b[0;32m   1962\u001b[0m       \u001b[1;31m# No tape is watching; skip to running the function.\u001b[0m\u001b[1;33m\u001b[0m\u001b[1;33m\u001b[0m\u001b[1;33m\u001b[0m\u001b[0m\n\u001b[1;32m-> 1963\u001b[1;33m       return self._build_call_outputs(self._inference_function.call(\n\u001b[0m\u001b[0;32m   1964\u001b[0m           ctx, args, cancellation_manager=cancellation_manager))\n\u001b[0;32m   1965\u001b[0m     forward_backward = self._select_forward_and_backward_functions(\n",
      "\u001b[1;32mE:\\Programming\\Anaconda\\lib\\site-packages\\tensorflow\\python\\eager\\function.py\u001b[0m in \u001b[0;36mcall\u001b[1;34m(self, ctx, args, cancellation_manager)\u001b[0m\n\u001b[0;32m    589\u001b[0m       \u001b[1;32mwith\u001b[0m \u001b[0m_InterpolateFunctionError\u001b[0m\u001b[1;33m(\u001b[0m\u001b[0mself\u001b[0m\u001b[1;33m)\u001b[0m\u001b[1;33m:\u001b[0m\u001b[1;33m\u001b[0m\u001b[1;33m\u001b[0m\u001b[0m\n\u001b[0;32m    590\u001b[0m         \u001b[1;32mif\u001b[0m \u001b[0mcancellation_manager\u001b[0m \u001b[1;32mis\u001b[0m \u001b[1;32mNone\u001b[0m\u001b[1;33m:\u001b[0m\u001b[1;33m\u001b[0m\u001b[1;33m\u001b[0m\u001b[0m\n\u001b[1;32m--> 591\u001b[1;33m           outputs = execute.execute(\n\u001b[0m\u001b[0;32m    592\u001b[0m               \u001b[0mstr\u001b[0m\u001b[1;33m(\u001b[0m\u001b[0mself\u001b[0m\u001b[1;33m.\u001b[0m\u001b[0msignature\u001b[0m\u001b[1;33m.\u001b[0m\u001b[0mname\u001b[0m\u001b[1;33m)\u001b[0m\u001b[1;33m,\u001b[0m\u001b[1;33m\u001b[0m\u001b[1;33m\u001b[0m\u001b[0m\n\u001b[0;32m    593\u001b[0m               \u001b[0mnum_outputs\u001b[0m\u001b[1;33m=\u001b[0m\u001b[0mself\u001b[0m\u001b[1;33m.\u001b[0m\u001b[0m_num_outputs\u001b[0m\u001b[1;33m,\u001b[0m\u001b[1;33m\u001b[0m\u001b[1;33m\u001b[0m\u001b[0m\n",
      "\u001b[1;32mE:\\Programming\\Anaconda\\lib\\site-packages\\tensorflow\\python\\eager\\execute.py\u001b[0m in \u001b[0;36mquick_execute\u001b[1;34m(op_name, num_outputs, inputs, attrs, ctx, name)\u001b[0m\n\u001b[0;32m     57\u001b[0m   \u001b[1;32mtry\u001b[0m\u001b[1;33m:\u001b[0m\u001b[1;33m\u001b[0m\u001b[1;33m\u001b[0m\u001b[0m\n\u001b[0;32m     58\u001b[0m     \u001b[0mctx\u001b[0m\u001b[1;33m.\u001b[0m\u001b[0mensure_initialized\u001b[0m\u001b[1;33m(\u001b[0m\u001b[1;33m)\u001b[0m\u001b[1;33m\u001b[0m\u001b[1;33m\u001b[0m\u001b[0m\n\u001b[1;32m---> 59\u001b[1;33m     tensors = pywrap_tfe.TFE_Py_Execute(ctx._handle, device_name, op_name,\n\u001b[0m\u001b[0;32m     60\u001b[0m                                         inputs, attrs, num_outputs)\n\u001b[0;32m     61\u001b[0m   \u001b[1;32mexcept\u001b[0m \u001b[0mcore\u001b[0m\u001b[1;33m.\u001b[0m\u001b[0m_NotOkStatusException\u001b[0m \u001b[1;32mas\u001b[0m \u001b[0me\u001b[0m\u001b[1;33m:\u001b[0m\u001b[1;33m\u001b[0m\u001b[1;33m\u001b[0m\u001b[0m\n",
      "\u001b[1;31mKeyboardInterrupt\u001b[0m: "
     ]
    }
   ],
   "source": [
    "cnn = models.Sequential([\n",
    "    layers.Conv2D(filters=32, kernel_size=(3, 3), activation='relu', input_shape=(224, 224, 3)),\n",
    "    layers.MaxPooling2D((2, 2)),\n",
    "    keras.layers.Dropout(0.5),\n",
    "    layers.Conv2D(filters=64, kernel_size=(3, 3), activation='relu'),\n",
    "    layers.MaxPooling2D((2, 2)),\n",
    "    keras.layers.Dropout(0.5),\n",
    "    layers.Flatten(),\n",
    "    layers.Dense(64, activation='relu'),\n",
    "    layers.Dense(5, activation='sigmoid')\n",
    "])\n",
    "\n",
    "cnn.compile(optimizer='adam',\n",
    "              loss='sparse_categorical_crossentropy',\n",
    "              metrics=['accuracy'])\n",
    "\n",
    "cnn.fit(X_train, y_train, epochs=20)"
   ]
  },
  {
   "cell_type": "code",
   "execution_count": 52,
   "id": "6d32672b",
   "metadata": {},
   "outputs": [
    {
     "name": "stdout",
     "output_type": "stream",
     "text": [
      "Model: \"sequential_4\"\n",
      "_________________________________________________________________\n",
      "Layer (type)                 Output Shape              Param #   \n",
      "=================================================================\n",
      "conv2d_2 (Conv2D)            (None, 222, 222, 32)      896       \n",
      "_________________________________________________________________\n",
      "max_pooling2d_2 (MaxPooling2 (None, 111, 111, 32)      0         \n",
      "_________________________________________________________________\n",
      "dropout_2 (Dropout)          (None, 111, 111, 32)      0         \n",
      "_________________________________________________________________\n",
      "conv2d_3 (Conv2D)            (None, 109, 109, 64)      18496     \n",
      "_________________________________________________________________\n",
      "max_pooling2d_3 (MaxPooling2 (None, 54, 54, 64)        0         \n",
      "_________________________________________________________________\n",
      "dropout_3 (Dropout)          (None, 54, 54, 64)        0         \n",
      "_________________________________________________________________\n",
      "flatten_1 (Flatten)          (None, 186624)            0         \n",
      "_________________________________________________________________\n",
      "dense_2 (Dense)              (None, 64)                11944000  \n",
      "_________________________________________________________________\n",
      "dense_3 (Dense)              (None, 5)                 325       \n",
      "=================================================================\n",
      "Total params: 11,963,717\n",
      "Trainable params: 11,963,717\n",
      "Non-trainable params: 0\n",
      "_________________________________________________________________\n"
     ]
    }
   ],
   "source": [
    "cnn.summary()"
   ]
  },
  {
   "cell_type": "code",
   "execution_count": 53,
   "id": "922f3017",
   "metadata": {},
   "outputs": [],
   "source": [
    "y_pred_cnn = cnn.predict(X_test)"
   ]
  },
  {
   "cell_type": "code",
   "execution_count": 55,
   "id": "77579bc8",
   "metadata": {},
   "outputs": [],
   "source": [
    "y_pred_cnn = [np.argmax(element) for element in y_pred_cnn]"
   ]
  },
  {
   "cell_type": "code",
   "execution_count": 57,
   "id": "294e0b3e",
   "metadata": {},
   "outputs": [
    {
     "name": "stdout",
     "output_type": "stream",
     "text": [
      "              precision    recall  f1-score   support\n",
      "\n",
      "           0       0.62      0.73      0.67        11\n",
      "           1       0.62      0.45      0.53        11\n",
      "           2       0.91      0.91      0.91        11\n",
      "           3       0.90      0.82      0.86        11\n",
      "           4       0.62      0.73      0.67        11\n",
      "\n",
      "    accuracy                           0.73        55\n",
      "   macro avg       0.73      0.73      0.73        55\n",
      "weighted avg       0.73      0.73      0.73        55\n",
      "\n"
     ]
    }
   ],
   "source": [
    "from sklearn.metrics import confusion_matrix, classification_report\n",
    "\n",
    "print(classification_report(y_test, y_pred_cnn))"
   ]
  },
  {
   "cell_type": "code",
   "execution_count": 58,
   "id": "abfde6b7",
   "metadata": {},
   "outputs": [
    {
     "name": "stdout",
     "output_type": "stream",
     "text": [
      "0.7272727272727273\n"
     ]
    }
   ],
   "source": [
    "from sklearn.metrics import accuracy_score\n",
    "\n",
    "print(accuracy_score(y_test, y_pred_cnn))"
   ]
  },
  {
   "cell_type": "markdown",
   "id": "529c4d76",
   "metadata": {},
   "source": [
    "# Transfer Learning Using MobileNet"
   ]
  },
  {
   "cell_type": "code",
   "execution_count": 21,
   "id": "23894846",
   "metadata": {},
   "outputs": [
    {
     "data": {
      "text/plain": [
       "(224, 224, 3)"
      ]
     },
     "execution_count": 21,
     "metadata": {},
     "output_type": "execute_result"
    }
   ],
   "source": [
    "X.shape[1:]"
   ]
  },
  {
   "cell_type": "code",
   "execution_count": 22,
   "id": "c0e676f5",
   "metadata": {},
   "outputs": [
    {
     "ename": "OSError",
     "evalue": "SavedModel file does not exist at: C:\\Users\\ADMIN\\AppData\\Local\\Temp\\tfhub_modules\\e9e1d116a3f9f36a97767c2f52452f7256dd57c2\\{saved_model.pbtxt|saved_model.pb}",
     "output_type": "error",
     "traceback": [
      "\u001b[1;31m---------------------------------------------------------------------------\u001b[0m",
      "\u001b[1;31mOSError\u001b[0m                                   Traceback (most recent call last)",
      "\u001b[1;32m<ipython-input-22-b1433bc33edf>\u001b[0m in \u001b[0;36m<module>\u001b[1;34m\u001b[0m\n\u001b[0;32m      1\u001b[0m \u001b[0mfeature_vector\u001b[0m \u001b[1;33m=\u001b[0m \u001b[1;34m\"https://tfhub.dev/google/imagenet/mobilenet_v3_large_075_224/feature_vector/5\"\u001b[0m\u001b[1;33m\u001b[0m\u001b[1;33m\u001b[0m\u001b[0m\n\u001b[1;32m----> 2\u001b[1;33m tl_layer = hub.KerasLayer(\n\u001b[0m\u001b[0;32m      3\u001b[0m     feature_vector, input_shape = X.shape[1:], trainable=False)\n",
      "\u001b[1;32mE:\\Programming\\Anaconda\\lib\\site-packages\\tensorflow_hub\\keras_layer.py\u001b[0m in \u001b[0;36m__init__\u001b[1;34m(self, handle, trainable, arguments, _sentinel, tags, signature, signature_outputs_as_dict, output_key, output_shape, load_options, **kwargs)\u001b[0m\n\u001b[0;32m    151\u001b[0m \u001b[1;33m\u001b[0m\u001b[0m\n\u001b[0;32m    152\u001b[0m     \u001b[0mself\u001b[0m\u001b[1;33m.\u001b[0m\u001b[0m_load_options\u001b[0m \u001b[1;33m=\u001b[0m \u001b[0mload_options\u001b[0m\u001b[1;33m\u001b[0m\u001b[1;33m\u001b[0m\u001b[0m\n\u001b[1;32m--> 153\u001b[1;33m     \u001b[0mself\u001b[0m\u001b[1;33m.\u001b[0m\u001b[0m_func\u001b[0m \u001b[1;33m=\u001b[0m \u001b[0mload_module\u001b[0m\u001b[1;33m(\u001b[0m\u001b[0mhandle\u001b[0m\u001b[1;33m,\u001b[0m \u001b[0mtags\u001b[0m\u001b[1;33m,\u001b[0m \u001b[0mself\u001b[0m\u001b[1;33m.\u001b[0m\u001b[0m_load_options\u001b[0m\u001b[1;33m)\u001b[0m\u001b[1;33m\u001b[0m\u001b[1;33m\u001b[0m\u001b[0m\n\u001b[0m\u001b[0;32m    154\u001b[0m     \u001b[0mself\u001b[0m\u001b[1;33m.\u001b[0m\u001b[0m_has_training_argument\u001b[0m \u001b[1;33m=\u001b[0m \u001b[0mfunc_has_training_argument\u001b[0m\u001b[1;33m(\u001b[0m\u001b[0mself\u001b[0m\u001b[1;33m.\u001b[0m\u001b[0m_func\u001b[0m\u001b[1;33m)\u001b[0m\u001b[1;33m\u001b[0m\u001b[1;33m\u001b[0m\u001b[0m\n\u001b[0;32m    155\u001b[0m     \u001b[0mself\u001b[0m\u001b[1;33m.\u001b[0m\u001b[0m_is_hub_module_v1\u001b[0m \u001b[1;33m=\u001b[0m \u001b[0mgetattr\u001b[0m\u001b[1;33m(\u001b[0m\u001b[0mself\u001b[0m\u001b[1;33m.\u001b[0m\u001b[0m_func\u001b[0m\u001b[1;33m,\u001b[0m \u001b[1;34m\"_is_hub_module_v1\"\u001b[0m\u001b[1;33m,\u001b[0m \u001b[1;32mFalse\u001b[0m\u001b[1;33m)\u001b[0m\u001b[1;33m\u001b[0m\u001b[1;33m\u001b[0m\u001b[0m\n",
      "\u001b[1;32mE:\\Programming\\Anaconda\\lib\\site-packages\\tensorflow_hub\\keras_layer.py\u001b[0m in \u001b[0;36mload_module\u001b[1;34m(handle, tags, load_options)\u001b[0m\n\u001b[0;32m    447\u001b[0m       \u001b[1;32mexcept\u001b[0m \u001b[0mImportError\u001b[0m\u001b[1;33m:\u001b[0m  \u001b[1;31m# Expected before TF2.4.\u001b[0m\u001b[1;33m\u001b[0m\u001b[1;33m\u001b[0m\u001b[0m\n\u001b[0;32m    448\u001b[0m         \u001b[0mset_load_options\u001b[0m \u001b[1;33m=\u001b[0m \u001b[0mload_options\u001b[0m\u001b[1;33m\u001b[0m\u001b[1;33m\u001b[0m\u001b[0m\n\u001b[1;32m--> 449\u001b[1;33m     \u001b[1;32mreturn\u001b[0m \u001b[0mmodule_v2\u001b[0m\u001b[1;33m.\u001b[0m\u001b[0mload\u001b[0m\u001b[1;33m(\u001b[0m\u001b[0mhandle\u001b[0m\u001b[1;33m,\u001b[0m \u001b[0mtags\u001b[0m\u001b[1;33m=\u001b[0m\u001b[0mtags\u001b[0m\u001b[1;33m,\u001b[0m \u001b[0moptions\u001b[0m\u001b[1;33m=\u001b[0m\u001b[0mset_load_options\u001b[0m\u001b[1;33m)\u001b[0m\u001b[1;33m\u001b[0m\u001b[1;33m\u001b[0m\u001b[0m\n\u001b[0m\u001b[0;32m    450\u001b[0m \u001b[1;33m\u001b[0m\u001b[0m\n\u001b[0;32m    451\u001b[0m \u001b[1;33m\u001b[0m\u001b[0m\n",
      "\u001b[1;32mE:\\Programming\\Anaconda\\lib\\site-packages\\tensorflow_hub\\module_v2.py\u001b[0m in \u001b[0;36mload\u001b[1;34m(handle, tags, options)\u001b[0m\n\u001b[0;32m    104\u001b[0m         module_path, tags=tags, options=options)\n\u001b[0;32m    105\u001b[0m   \u001b[1;32melse\u001b[0m\u001b[1;33m:\u001b[0m\u001b[1;33m\u001b[0m\u001b[1;33m\u001b[0m\u001b[0m\n\u001b[1;32m--> 106\u001b[1;33m     \u001b[0mobj\u001b[0m \u001b[1;33m=\u001b[0m \u001b[0mtf\u001b[0m\u001b[1;33m.\u001b[0m\u001b[0mcompat\u001b[0m\u001b[1;33m.\u001b[0m\u001b[0mv1\u001b[0m\u001b[1;33m.\u001b[0m\u001b[0msaved_model\u001b[0m\u001b[1;33m.\u001b[0m\u001b[0mload_v2\u001b[0m\u001b[1;33m(\u001b[0m\u001b[0mmodule_path\u001b[0m\u001b[1;33m,\u001b[0m \u001b[0mtags\u001b[0m\u001b[1;33m=\u001b[0m\u001b[0mtags\u001b[0m\u001b[1;33m)\u001b[0m\u001b[1;33m\u001b[0m\u001b[1;33m\u001b[0m\u001b[0m\n\u001b[0m\u001b[0;32m    107\u001b[0m   \u001b[0mobj\u001b[0m\u001b[1;33m.\u001b[0m\u001b[0m_is_hub_module_v1\u001b[0m \u001b[1;33m=\u001b[0m \u001b[0mis_hub_module_v1\u001b[0m  \u001b[1;31m# pylint: disable=protected-access\u001b[0m\u001b[1;33m\u001b[0m\u001b[1;33m\u001b[0m\u001b[0m\n\u001b[0;32m    108\u001b[0m   \u001b[1;32mreturn\u001b[0m \u001b[0mobj\u001b[0m\u001b[1;33m\u001b[0m\u001b[1;33m\u001b[0m\u001b[0m\n",
      "\u001b[1;32mE:\\Programming\\Anaconda\\lib\\site-packages\\tensorflow\\python\\saved_model\\load.py\u001b[0m in \u001b[0;36mload\u001b[1;34m(export_dir, tags, options)\u001b[0m\n\u001b[0;32m    862\u001b[0m   \"\"\"\n\u001b[0;32m    863\u001b[0m   \u001b[0mmetrics\u001b[0m\u001b[1;33m.\u001b[0m\u001b[0mIncrementReadApi\u001b[0m\u001b[1;33m(\u001b[0m\u001b[0m_LOAD_V2_LABEL\u001b[0m\u001b[1;33m)\u001b[0m\u001b[1;33m\u001b[0m\u001b[1;33m\u001b[0m\u001b[0m\n\u001b[1;32m--> 864\u001b[1;33m   \u001b[0mresult\u001b[0m \u001b[1;33m=\u001b[0m \u001b[0mload_internal\u001b[0m\u001b[1;33m(\u001b[0m\u001b[0mexport_dir\u001b[0m\u001b[1;33m,\u001b[0m \u001b[0mtags\u001b[0m\u001b[1;33m,\u001b[0m \u001b[0moptions\u001b[0m\u001b[1;33m)\u001b[0m\u001b[1;33m[\u001b[0m\u001b[1;34m\"root\"\u001b[0m\u001b[1;33m]\u001b[0m\u001b[1;33m\u001b[0m\u001b[1;33m\u001b[0m\u001b[0m\n\u001b[0m\u001b[0;32m    865\u001b[0m   \u001b[0mmetrics\u001b[0m\u001b[1;33m.\u001b[0m\u001b[0mIncrementRead\u001b[0m\u001b[1;33m(\u001b[0m\u001b[1;33m)\u001b[0m\u001b[1;33m\u001b[0m\u001b[1;33m\u001b[0m\u001b[0m\n\u001b[0;32m    866\u001b[0m   \u001b[1;32mreturn\u001b[0m \u001b[0mresult\u001b[0m\u001b[1;33m\u001b[0m\u001b[1;33m\u001b[0m\u001b[0m\n",
      "\u001b[1;32mE:\\Programming\\Anaconda\\lib\\site-packages\\tensorflow\\python\\saved_model\\load.py\u001b[0m in \u001b[0;36mload_internal\u001b[1;34m(export_dir, tags, options, loader_cls, filters)\u001b[0m\n\u001b[0;32m    876\u001b[0m     \u001b[0mtags\u001b[0m \u001b[1;33m=\u001b[0m \u001b[0mnest\u001b[0m\u001b[1;33m.\u001b[0m\u001b[0mflatten\u001b[0m\u001b[1;33m(\u001b[0m\u001b[0mtags\u001b[0m\u001b[1;33m)\u001b[0m\u001b[1;33m\u001b[0m\u001b[1;33m\u001b[0m\u001b[0m\n\u001b[0;32m    877\u001b[0m   saved_model_proto, debug_info = (\n\u001b[1;32m--> 878\u001b[1;33m       loader_impl.parse_saved_model_with_debug_info(export_dir))\n\u001b[0m\u001b[0;32m    879\u001b[0m \u001b[1;33m\u001b[0m\u001b[0m\n\u001b[0;32m    880\u001b[0m   if (len(saved_model_proto.meta_graphs) == 1 and\n",
      "\u001b[1;32mE:\\Programming\\Anaconda\\lib\\site-packages\\tensorflow\\python\\saved_model\\loader_impl.py\u001b[0m in \u001b[0;36mparse_saved_model_with_debug_info\u001b[1;34m(export_dir)\u001b[0m\n\u001b[0;32m     58\u001b[0m     \u001b[0mparsed\u001b[0m\u001b[1;33m.\u001b[0m \u001b[0mMissing\u001b[0m \u001b[0mgraph\u001b[0m \u001b[0mdebug\u001b[0m \u001b[0minfo\u001b[0m \u001b[0mfile\u001b[0m \u001b[1;32mis\u001b[0m \u001b[0mfine\u001b[0m\u001b[1;33m.\u001b[0m\u001b[1;33m\u001b[0m\u001b[1;33m\u001b[0m\u001b[0m\n\u001b[0;32m     59\u001b[0m   \"\"\"\n\u001b[1;32m---> 60\u001b[1;33m   \u001b[0msaved_model\u001b[0m \u001b[1;33m=\u001b[0m \u001b[0m_parse_saved_model\u001b[0m\u001b[1;33m(\u001b[0m\u001b[0mexport_dir\u001b[0m\u001b[1;33m)\u001b[0m\u001b[1;33m\u001b[0m\u001b[1;33m\u001b[0m\u001b[0m\n\u001b[0m\u001b[0;32m     61\u001b[0m \u001b[1;33m\u001b[0m\u001b[0m\n\u001b[0;32m     62\u001b[0m   debug_info_path = os.path.join(\n",
      "\u001b[1;32mE:\\Programming\\Anaconda\\lib\\site-packages\\tensorflow\\python\\saved_model\\loader_impl.py\u001b[0m in \u001b[0;36mparse_saved_model\u001b[1;34m(export_dir)\u001b[0m\n\u001b[0;32m    116\u001b[0m       \u001b[1;32mraise\u001b[0m \u001b[0mIOError\u001b[0m\u001b[1;33m(\u001b[0m\u001b[1;34m\"Cannot parse file %s: %s.\"\u001b[0m \u001b[1;33m%\u001b[0m \u001b[1;33m(\u001b[0m\u001b[0mpath_to_pbtxt\u001b[0m\u001b[1;33m,\u001b[0m \u001b[0mstr\u001b[0m\u001b[1;33m(\u001b[0m\u001b[0me\u001b[0m\u001b[1;33m)\u001b[0m\u001b[1;33m)\u001b[0m\u001b[1;33m)\u001b[0m\u001b[1;33m\u001b[0m\u001b[1;33m\u001b[0m\u001b[0m\n\u001b[0;32m    117\u001b[0m   \u001b[1;32melse\u001b[0m\u001b[1;33m:\u001b[0m\u001b[1;33m\u001b[0m\u001b[1;33m\u001b[0m\u001b[0m\n\u001b[1;32m--> 118\u001b[1;33m     raise IOError(\n\u001b[0m\u001b[0;32m    119\u001b[0m         \u001b[1;34m\"SavedModel file does not exist at: %s%s{%s|%s}\"\u001b[0m \u001b[1;33m%\u001b[0m\u001b[1;33m\u001b[0m\u001b[1;33m\u001b[0m\u001b[0m\n\u001b[0;32m    120\u001b[0m         (export_dir, os.path.sep, constants.SAVED_MODEL_FILENAME_PBTXT,\n",
      "\u001b[1;31mOSError\u001b[0m: SavedModel file does not exist at: C:\\Users\\ADMIN\\AppData\\Local\\Temp\\tfhub_modules\\e9e1d116a3f9f36a97767c2f52452f7256dd57c2\\{saved_model.pbtxt|saved_model.pb}"
     ]
    }
   ],
   "source": [
    "feature_vector = \"https://tfhub.dev/google/imagenet/mobilenet_v3_large_075_224/feature_vector/5\"\n",
    "tl_layer = hub.KerasLayer(\n",
    "    feature_vector, input_shape = X.shape[1:], trainable=False)"
   ]
  },
  {
   "cell_type": "code",
   "execution_count": 78,
   "id": "cc135c61",
   "metadata": {},
   "outputs": [
    {
     "name": "stdout",
     "output_type": "stream",
     "text": [
      "Epoch 1/20\n",
      "13/13 [==============================] - 7s 399ms/step - loss: 1.2696 - accuracy: 0.4495 - val_loss: 0.8796 - val_accuracy: 0.6364\n",
      "Epoch 2/20\n",
      "13/13 [==============================] - 4s 333ms/step - loss: 0.8849 - accuracy: 0.5859 - val_loss: 0.6634 - val_accuracy: 0.7273\n",
      "Epoch 3/20\n",
      "13/13 [==============================] - 4s 325ms/step - loss: 0.7626 - accuracy: 0.6717 - val_loss: 0.6521 - val_accuracy: 0.7727\n",
      "Epoch 4/20\n",
      "13/13 [==============================] - 4s 326ms/step - loss: 0.6191 - accuracy: 0.7525 - val_loss: 0.5686 - val_accuracy: 0.6818\n",
      "Epoch 5/20\n",
      "13/13 [==============================] - 4s 320ms/step - loss: 0.4963 - accuracy: 0.8030 - val_loss: 0.4816 - val_accuracy: 0.7727\n",
      "Epoch 6/20\n",
      "13/13 [==============================] - 4s 317ms/step - loss: 0.4505 - accuracy: 0.8333 - val_loss: 0.6693 - val_accuracy: 0.6364\n",
      "Epoch 7/20\n",
      "13/13 [==============================] - 4s 315ms/step - loss: 0.3907 - accuracy: 0.8737 - val_loss: 0.7048 - val_accuracy: 0.5909\n",
      "Epoch 8/20\n",
      "13/13 [==============================] - 4s 323ms/step - loss: 0.3321 - accuracy: 0.8737 - val_loss: 0.4637 - val_accuracy: 0.7273\n",
      "Epoch 9/20\n",
      "13/13 [==============================] - 4s 319ms/step - loss: 0.2962 - accuracy: 0.9040 - val_loss: 0.5299 - val_accuracy: 0.8182\n",
      "Epoch 10/20\n",
      "13/13 [==============================] - 4s 323ms/step - loss: 0.2418 - accuracy: 0.9394 - val_loss: 0.4794 - val_accuracy: 0.7273\n",
      "Epoch 11/20\n",
      "13/13 [==============================] - 4s 324ms/step - loss: 0.2571 - accuracy: 0.9091 - val_loss: 0.5681 - val_accuracy: 0.7727\n",
      "Epoch 12/20\n",
      "13/13 [==============================] - 4s 325ms/step - loss: 0.2194 - accuracy: 0.9444 - val_loss: 0.5501 - val_accuracy: 0.7727\n",
      "Epoch 13/20\n",
      "13/13 [==============================] - 4s 345ms/step - loss: 0.1657 - accuracy: 0.9545 - val_loss: 0.9451 - val_accuracy: 0.5455\n",
      "Epoch 14/20\n",
      "13/13 [==============================] - 4s 325ms/step - loss: 0.2031 - accuracy: 0.9293 - val_loss: 0.5438 - val_accuracy: 0.7273\n",
      "Epoch 15/20\n",
      "13/13 [==============================] - 4s 335ms/step - loss: 0.1797 - accuracy: 0.9444 - val_loss: 0.5704 - val_accuracy: 0.7727\n",
      "Epoch 16/20\n",
      "13/13 [==============================] - 4s 322ms/step - loss: 0.2142 - accuracy: 0.9343 - val_loss: 0.5203 - val_accuracy: 0.6818\n",
      "Epoch 17/20\n",
      "13/13 [==============================] - 4s 323ms/step - loss: 0.1268 - accuracy: 0.9495 - val_loss: 0.5726 - val_accuracy: 0.7273\n",
      "Epoch 18/20\n",
      "13/13 [==============================] - 4s 325ms/step - loss: 0.1014 - accuracy: 0.9798 - val_loss: 0.5613 - val_accuracy: 0.6364\n",
      "Epoch 19/20\n",
      "13/13 [==============================] - 4s 324ms/step - loss: 0.1530 - accuracy: 0.9394 - val_loss: 0.7330 - val_accuracy: 0.6364\n",
      "Epoch 20/20\n",
      "13/13 [==============================] - 4s 322ms/step - loss: 0.1807 - accuracy: 0.9242 - val_loss: 0.5839 - val_accuracy: 0.7273\n"
     ]
    },
    {
     "data": {
      "text/plain": [
       "<keras.callbacks.History at 0x2bf88b81b20>"
      ]
     },
     "execution_count": 78,
     "metadata": {},
     "output_type": "execute_result"
    }
   ],
   "source": [
    "num_classes = 5\n",
    "#data_augmentation\n",
    "tl = Sequential([\n",
    "  #data_augmentation,\n",
    "  tl_layer,\n",
    "  layers.Dense(128, activation='relu'),\n",
    "  #keras.layers.Dropout(0.5),\n",
    "  layers.Dense(128, activation='relu'),\n",
    "  layers.Dense(5, activation='sigmoid')\n",
    "])\n",
    "\n",
    "tl.compile(loss=\"sparse_categorical_crossentropy\",\n",
    "             optimizer = \"adam\",\n",
    "             metrics = ['accuracy'])\n",
    "              \n",
    "tl.fit(X_train, y_train, batch_size = 16, epochs=20, validation_split = 0.1) "
   ]
  },
  {
   "cell_type": "code",
   "execution_count": 80,
   "id": "869977e4",
   "metadata": {},
   "outputs": [
    {
     "name": "stdout",
     "output_type": "stream",
     "text": [
      "Model: \"sequential_9\"\n",
      "_________________________________________________________________\n",
      "Layer (type)                 Output Shape              Param #   \n",
      "=================================================================\n",
      "keras_layer (KerasLayer)     (None, 1280)              2731616   \n",
      "_________________________________________________________________\n",
      "dense_16 (Dense)             (None, 128)               163968    \n",
      "_________________________________________________________________\n",
      "dense_17 (Dense)             (None, 128)               16512     \n",
      "_________________________________________________________________\n",
      "dense_18 (Dense)             (None, 5)                 645       \n",
      "=================================================================\n",
      "Total params: 2,912,741\n",
      "Trainable params: 181,125\n",
      "Non-trainable params: 2,731,616\n",
      "_________________________________________________________________\n"
     ]
    }
   ],
   "source": [
    "tl.summary()"
   ]
  },
  {
   "cell_type": "code",
   "execution_count": 81,
   "id": "e06b6eb0",
   "metadata": {},
   "outputs": [],
   "source": [
    "y_pred_mnet = tl.predict(X_test)"
   ]
  },
  {
   "cell_type": "code",
   "execution_count": 82,
   "id": "561b5fce",
   "metadata": {},
   "outputs": [],
   "source": [
    "y_pred_mnet = [np.argmax(element) for element in y_pred_mnet]"
   ]
  },
  {
   "cell_type": "code",
   "execution_count": 83,
   "id": "11574369",
   "metadata": {},
   "outputs": [
    {
     "name": "stdout",
     "output_type": "stream",
     "text": [
      "              precision    recall  f1-score   support\n",
      "\n",
      "           0       0.78      0.64      0.70        11\n",
      "           1       0.62      0.73      0.67        11\n",
      "           2       0.90      0.82      0.86        11\n",
      "           3       0.83      0.91      0.87        11\n",
      "           4       0.64      0.64      0.64        11\n",
      "\n",
      "    accuracy                           0.75        55\n",
      "   macro avg       0.75      0.75      0.75        55\n",
      "weighted avg       0.75      0.75      0.75        55\n",
      "\n"
     ]
    }
   ],
   "source": [
    "from sklearn.metrics import confusion_matrix, classification_report\n",
    "\n",
    "print(classification_report(y_test, y_pred_mnet))"
   ]
  },
  {
   "cell_type": "code",
   "execution_count": 84,
   "id": "3324818d",
   "metadata": {},
   "outputs": [
    {
     "name": "stdout",
     "output_type": "stream",
     "text": [
      "0.7454545454545455\n"
     ]
    }
   ],
   "source": [
    "from sklearn.metrics import accuracy_score\n",
    "\n",
    "print(accuracy_score(y_test, y_pred_mnet))"
   ]
  },
  {
   "cell_type": "markdown",
   "id": "f461abf2",
   "metadata": {},
   "source": [
    "# Transfer Learning using InceptionNet"
   ]
  },
  {
   "cell_type": "code",
   "execution_count": 85,
   "id": "2ce0cf53",
   "metadata": {},
   "outputs": [],
   "source": [
    "feature_vector_in = \"https://tfhub.dev/google/imagenet/inception_v1/feature_vector/5\"\n",
    "in_layer = hub.KerasLayer(\n",
    "    feature_vector, input_shape = X.shape[1:], trainable=False)"
   ]
  },
  {
   "cell_type": "code",
   "execution_count": 124,
   "id": "e42d74d1",
   "metadata": {},
   "outputs": [
    {
     "name": "stdout",
     "output_type": "stream",
     "text": [
      "Epoch 1/20\n",
      "25/25 [==============================] - 6s 196ms/step - loss: 1.3401 - accuracy: 0.4747 - val_loss: 0.8914 - val_accuracy: 0.5909\n",
      "Epoch 2/20\n",
      "25/25 [==============================] - 4s 169ms/step - loss: 0.8368 - accuracy: 0.6313 - val_loss: 0.8257 - val_accuracy: 0.5455\n",
      "Epoch 3/20\n",
      "25/25 [==============================] - 4s 169ms/step - loss: 0.6378 - accuracy: 0.7576 - val_loss: 0.6244 - val_accuracy: 0.6818\n",
      "Epoch 4/20\n",
      "25/25 [==============================] - 4s 171ms/step - loss: 0.6866 - accuracy: 0.6818 - val_loss: 0.5462 - val_accuracy: 0.7727\n",
      "Epoch 5/20\n",
      "25/25 [==============================] - 4s 171ms/step - loss: 0.5189 - accuracy: 0.7929 - val_loss: 0.6881 - val_accuracy: 0.5455\n",
      "Epoch 6/20\n",
      "25/25 [==============================] - 4s 171ms/step - loss: 0.5118 - accuracy: 0.7879 - val_loss: 0.5784 - val_accuracy: 0.7727\n",
      "Epoch 7/20\n",
      "25/25 [==============================] - 4s 172ms/step - loss: 0.3890 - accuracy: 0.8535 - val_loss: 0.5109 - val_accuracy: 0.8182\n",
      "Epoch 8/20\n",
      "25/25 [==============================] - 4s 170ms/step - loss: 0.3554 - accuracy: 0.9040 - val_loss: 0.5448 - val_accuracy: 0.7273\n",
      "Epoch 9/20\n",
      "25/25 [==============================] - 5s 195ms/step - loss: 0.3585 - accuracy: 0.8485 - val_loss: 0.5501 - val_accuracy: 0.6818\n",
      "Epoch 10/20\n",
      "25/25 [==============================] - 5s 196ms/step - loss: 0.2809 - accuracy: 0.9293 - val_loss: 0.5544 - val_accuracy: 0.7273\n",
      "Epoch 11/20\n",
      "25/25 [==============================] - 4s 172ms/step - loss: 0.2661 - accuracy: 0.9091 - val_loss: 0.7279 - val_accuracy: 0.6818\n",
      "Epoch 12/20\n",
      "25/25 [==============================] - 5s 186ms/step - loss: 0.3334 - accuracy: 0.8737 - val_loss: 0.6215 - val_accuracy: 0.7273\n",
      "Epoch 13/20\n",
      "25/25 [==============================] - 5s 191ms/step - loss: 0.2292 - accuracy: 0.9242 - val_loss: 0.5919 - val_accuracy: 0.7273\n",
      "Epoch 14/20\n",
      "25/25 [==============================] - 5s 191ms/step - loss: 0.2096 - accuracy: 0.9444 - val_loss: 0.5559 - val_accuracy: 0.6818\n",
      "Epoch 15/20\n",
      "25/25 [==============================] - 4s 174ms/step - loss: 0.1818 - accuracy: 0.9545 - val_loss: 0.6491 - val_accuracy: 0.6818\n",
      "Epoch 16/20\n",
      "25/25 [==============================] - 4s 173ms/step - loss: 0.1610 - accuracy: 0.9697 - val_loss: 0.5335 - val_accuracy: 0.7273\n",
      "Epoch 17/20\n",
      "25/25 [==============================] - 4s 174ms/step - loss: 0.1366 - accuracy: 0.9697 - val_loss: 0.4994 - val_accuracy: 0.7273\n",
      "Epoch 18/20\n",
      "25/25 [==============================] - 4s 173ms/step - loss: 0.1510 - accuracy: 0.9545 - val_loss: 0.5427 - val_accuracy: 0.7273\n",
      "Epoch 19/20\n",
      "25/25 [==============================] - 4s 176ms/step - loss: 0.1163 - accuracy: 0.9899 - val_loss: 0.5767 - val_accuracy: 0.6818\n",
      "Epoch 20/20\n",
      "25/25 [==============================] - 4s 173ms/step - loss: 0.1141 - accuracy: 0.9798 - val_loss: 0.5853 - val_accuracy: 0.6364\n"
     ]
    },
    {
     "data": {
      "text/plain": [
       "<keras.callbacks.History at 0x2bfaf8044c0>"
      ]
     },
     "execution_count": 124,
     "metadata": {},
     "output_type": "execute_result"
    }
   ],
   "source": [
    "num_classes = 5\n",
    "#data_augmentation\n",
    "inception = Sequential([\n",
    "  #data_augmentation,\n",
    "  in_layer,\n",
    "  layers.Dense(128, activation='relu'),\n",
    "  #layers.Dense(128, activation='relu'),\n",
    "  layers.Dense(5, activation='sigmoid')\n",
    "])\n",
    "\n",
    "inception.compile(loss=\"sparse_categorical_crossentropy\",\n",
    "             optimizer = \"adam\",\n",
    "             metrics = ['accuracy'])\n",
    "              \n",
    "inception.fit(X_train, y_train, batch_size = 8, epochs=20, validation_split = 0.1) "
   ]
  },
  {
   "cell_type": "code",
   "execution_count": 125,
   "id": "aaef3ffa",
   "metadata": {},
   "outputs": [
    {
     "name": "stdout",
     "output_type": "stream",
     "text": [
      "Model: \"sequential_15\"\n",
      "_________________________________________________________________\n",
      "Layer (type)                 Output Shape              Param #   \n",
      "=================================================================\n",
      "keras_layer_2 (KerasLayer)   (None, 1280)              2731616   \n",
      "_________________________________________________________________\n",
      "dense_32 (Dense)             (None, 128)               163968    \n",
      "_________________________________________________________________\n",
      "dense_33 (Dense)             (None, 5)                 645       \n",
      "=================================================================\n",
      "Total params: 2,896,229\n",
      "Trainable params: 164,613\n",
      "Non-trainable params: 2,731,616\n",
      "_________________________________________________________________\n"
     ]
    }
   ],
   "source": [
    "inception.summary()"
   ]
  },
  {
   "cell_type": "code",
   "execution_count": 126,
   "id": "cef11611",
   "metadata": {},
   "outputs": [],
   "source": [
    "y_pred_inet = inception.predict(X_test)"
   ]
  },
  {
   "cell_type": "code",
   "execution_count": 127,
   "id": "e3d97d87",
   "metadata": {},
   "outputs": [],
   "source": [
    "y_pred_inet = [np.argmax(element) for element in y_pred_inet]"
   ]
  },
  {
   "cell_type": "code",
   "execution_count": 128,
   "id": "4ffc1637",
   "metadata": {},
   "outputs": [
    {
     "name": "stdout",
     "output_type": "stream",
     "text": [
      "              precision    recall  f1-score   support\n",
      "\n",
      "           0       0.67      0.73      0.70        11\n",
      "           1       0.60      0.82      0.69        11\n",
      "           2       0.90      0.82      0.86        11\n",
      "           3       0.83      0.91      0.87        11\n",
      "           4       0.83      0.45      0.59        11\n",
      "\n",
      "    accuracy                           0.75        55\n",
      "   macro avg       0.77      0.75      0.74        55\n",
      "weighted avg       0.77      0.75      0.74        55\n",
      "\n"
     ]
    }
   ],
   "source": [
    "from sklearn.metrics import confusion_matrix, classification_report\n",
    "\n",
    "print(classification_report(y_test, y_pred_inet))"
   ]
  },
  {
   "cell_type": "code",
   "execution_count": 129,
   "id": "578716ba",
   "metadata": {},
   "outputs": [
    {
     "name": "stdout",
     "output_type": "stream",
     "text": [
      "0.7454545454545455\n"
     ]
    }
   ],
   "source": [
    "from sklearn.metrics import accuracy_score\n",
    "\n",
    "print(accuracy_score(y_test, y_pred_inet))"
   ]
  },
  {
   "cell_type": "code",
   "execution_count": null,
   "id": "d416f1f7",
   "metadata": {},
   "outputs": [],
   "source": []
  }
 ],
 "metadata": {
  "kernelspec": {
   "display_name": "Python 3 (ipykernel)",
   "language": "python",
   "name": "python3"
  },
  "language_info": {
   "codemirror_mode": {
    "name": "ipython",
    "version": 3
   },
   "file_extension": ".py",
   "mimetype": "text/x-python",
   "name": "python",
   "nbconvert_exporter": "python",
   "pygments_lexer": "ipython3",
   "version": "3.12.6"
  }
 },
 "nbformat": 4,
 "nbformat_minor": 5
}
